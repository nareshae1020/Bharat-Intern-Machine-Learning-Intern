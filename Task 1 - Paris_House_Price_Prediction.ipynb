{
  "nbformat": 4,
  "nbformat_minor": 0,
  "metadata": {
    "colab": {
      "provenance": []
    },
    "kernelspec": {
      "name": "python3",
      "display_name": "Python 3"
    },
    "language_info": {
      "name": "python"
    }
  },
  "cells": [
    {
      "cell_type": "markdown",
      "source": [
        "#Paris House Price Prediction"
      ],
      "metadata": {
        "id": "N7qr_JDF2B7d"
      }
    },
    {
      "cell_type": "markdown",
      "source": [
        "Code by Nareshsarathy S"
      ],
      "metadata": {
        "id": "UXZjaHSk2GCD"
      }
    },
    {
      "cell_type": "markdown",
      "source": [
        "#House Price Prediction :\n",
        "###Task 1\n",
        "Machine Learning model to predict house price using linear regression only"
      ],
      "metadata": {
        "id": "x9B6ZHkd2WOX"
      }
    },
    {
      "cell_type": "code",
      "source": [
        "# Importing necessary libraries\n",
        "import pandas as pd\n",
        "import numpy as np\n",
        "from sklearn.model_selection import train_test_split\n",
        "from sklearn.linear_model import LinearRegression\n",
        "import matplotlib.pyplot as plt"
      ],
      "metadata": {
        "id": "h1PIu57I2BL0"
      },
      "execution_count": 1,
      "outputs": []
    },
    {
      "cell_type": "code",
      "source": [
        "# Load the dataset\n",
        "data = pd.read_csv('ParisHousing.csv')"
      ],
      "metadata": {
        "id": "i6C2hv4P9B_W"
      },
      "execution_count": 2,
      "outputs": []
    },
    {
      "cell_type": "code",
      "source": [
        "# Data Exploration\n",
        "print(data.describe())\n",
        "print(data.info())"
      ],
      "metadata": {
        "colab": {
          "base_uri": "https://localhost:8080/"
        },
        "id": "tnXumBVT9NrC",
        "outputId": "ba1ab50b-4fe2-4e2f-8b3c-2aaa6be2309e"
      },
      "execution_count": 3,
      "outputs": [
        {
          "output_type": "stream",
          "name": "stdout",
          "text": [
            "       squareMeters  numberOfRooms       hasYard       hasPool        floors  \\\n",
            "count   10000.00000   10000.000000  10000.000000  10000.000000  10000.000000   \n",
            "mean    49870.13120      50.358400      0.508700      0.496800     50.276300   \n",
            "std     28774.37535      28.816696      0.499949      0.500015     28.889171   \n",
            "min        89.00000       1.000000      0.000000      0.000000      1.000000   \n",
            "25%     25098.50000      25.000000      0.000000      0.000000     25.000000   \n",
            "50%     50105.50000      50.000000      1.000000      0.000000     50.000000   \n",
            "75%     74609.75000      75.000000      1.000000      1.000000     76.000000   \n",
            "max     99999.00000     100.000000      1.000000      1.000000    100.000000   \n",
            "\n",
            "           cityCode  cityPartRange  numPrevOwners         made    isNewBuilt  \\\n",
            "count  10000.000000   10000.000000   10000.000000  10000.00000  10000.000000   \n",
            "mean   50225.486100       5.510100       5.521700   2005.48850      0.499100   \n",
            "std    29006.675799       2.872024       2.856667      9.30809      0.500024   \n",
            "min        3.000000       1.000000       1.000000   1990.00000      0.000000   \n",
            "25%    24693.750000       3.000000       3.000000   1997.00000      0.000000   \n",
            "50%    50693.000000       5.000000       5.000000   2005.50000      0.000000   \n",
            "75%    75683.250000       8.000000       8.000000   2014.00000      1.000000   \n",
            "max    99953.000000      10.000000      10.000000   2021.00000      1.000000   \n",
            "\n",
            "       hasStormProtector      basement        attic       garage  \\\n",
            "count       10000.000000  10000.000000  10000.00000  10000.00000   \n",
            "mean            0.499900   5033.103900   5028.01060    553.12120   \n",
            "std             0.500025   2876.729545   2894.33221    262.05017   \n",
            "min             0.000000      0.000000      1.00000    100.00000   \n",
            "25%             0.000000   2559.750000   2512.00000    327.75000   \n",
            "50%             0.000000   5092.500000   5045.00000    554.00000   \n",
            "75%             1.000000   7511.250000   7540.50000    777.25000   \n",
            "max             1.000000  10000.000000  10000.00000   1000.00000   \n",
            "\n",
            "       hasStorageRoom  hasGuestRoom         price  \n",
            "count    10000.000000   10000.00000  1.000000e+04  \n",
            "mean         0.503000       4.99460  4.993448e+06  \n",
            "std          0.500016       3.17641  2.877424e+06  \n",
            "min          0.000000       0.00000  1.031350e+04  \n",
            "25%          0.000000       2.00000  2.516402e+06  \n",
            "50%          1.000000       5.00000  5.016180e+06  \n",
            "75%          1.000000       8.00000  7.469092e+06  \n",
            "max          1.000000      10.00000  1.000677e+07  \n",
            "<class 'pandas.core.frame.DataFrame'>\n",
            "RangeIndex: 10000 entries, 0 to 9999\n",
            "Data columns (total 17 columns):\n",
            " #   Column             Non-Null Count  Dtype  \n",
            "---  ------             --------------  -----  \n",
            " 0   squareMeters       10000 non-null  int64  \n",
            " 1   numberOfRooms      10000 non-null  int64  \n",
            " 2   hasYard            10000 non-null  int64  \n",
            " 3   hasPool            10000 non-null  int64  \n",
            " 4   floors             10000 non-null  int64  \n",
            " 5   cityCode           10000 non-null  int64  \n",
            " 6   cityPartRange      10000 non-null  int64  \n",
            " 7   numPrevOwners      10000 non-null  int64  \n",
            " 8   made               10000 non-null  int64  \n",
            " 9   isNewBuilt         10000 non-null  int64  \n",
            " 10  hasStormProtector  10000 non-null  int64  \n",
            " 11  basement           10000 non-null  int64  \n",
            " 12  attic              10000 non-null  int64  \n",
            " 13  garage             10000 non-null  int64  \n",
            " 14  hasStorageRoom     10000 non-null  int64  \n",
            " 15  hasGuestRoom       10000 non-null  int64  \n",
            " 16  price              10000 non-null  float64\n",
            "dtypes: float64(1), int64(16)\n",
            "memory usage: 1.3 MB\n",
            "None\n"
          ]
        }
      ]
    },
    {
      "cell_type": "code",
      "source": [
        "# Data Splitting\n",
        "# Split the data into training and testing sets\n",
        "X = data.drop('price', axis=1)\n",
        "y = data['price']\n",
        "X_train, X_test, y_train, y_test = train_test_split(X, y, test_size=0.2, random_state=42)"
      ],
      "metadata": {
        "id": "ke12hwnJ9WHq"
      },
      "execution_count": 4,
      "outputs": []
    },
    {
      "cell_type": "code",
      "source": [
        "# Model Selection - Linear Regression\n",
        "model = LinearRegression()\n",
        "# Train the model\n",
        "model.fit(X_train, y_train)"
      ],
      "metadata": {
        "colab": {
          "base_uri": "https://localhost:8080/",
          "height": 75
        },
        "id": "eoMhKeK_9kS7",
        "outputId": "b4777a48-69fd-446c-b274-3b20fb095bf5"
      },
      "execution_count": 5,
      "outputs": [
        {
          "output_type": "execute_result",
          "data": {
            "text/plain": [
              "LinearRegression()"
            ],
            "text/html": [
              "<style>#sk-container-id-1 {color: black;background-color: white;}#sk-container-id-1 pre{padding: 0;}#sk-container-id-1 div.sk-toggleable {background-color: white;}#sk-container-id-1 label.sk-toggleable__label {cursor: pointer;display: block;width: 100%;margin-bottom: 0;padding: 0.3em;box-sizing: border-box;text-align: center;}#sk-container-id-1 label.sk-toggleable__label-arrow:before {content: \"▸\";float: left;margin-right: 0.25em;color: #696969;}#sk-container-id-1 label.sk-toggleable__label-arrow:hover:before {color: black;}#sk-container-id-1 div.sk-estimator:hover label.sk-toggleable__label-arrow:before {color: black;}#sk-container-id-1 div.sk-toggleable__content {max-height: 0;max-width: 0;overflow: hidden;text-align: left;background-color: #f0f8ff;}#sk-container-id-1 div.sk-toggleable__content pre {margin: 0.2em;color: black;border-radius: 0.25em;background-color: #f0f8ff;}#sk-container-id-1 input.sk-toggleable__control:checked~div.sk-toggleable__content {max-height: 200px;max-width: 100%;overflow: auto;}#sk-container-id-1 input.sk-toggleable__control:checked~label.sk-toggleable__label-arrow:before {content: \"▾\";}#sk-container-id-1 div.sk-estimator input.sk-toggleable__control:checked~label.sk-toggleable__label {background-color: #d4ebff;}#sk-container-id-1 div.sk-label input.sk-toggleable__control:checked~label.sk-toggleable__label {background-color: #d4ebff;}#sk-container-id-1 input.sk-hidden--visually {border: 0;clip: rect(1px 1px 1px 1px);clip: rect(1px, 1px, 1px, 1px);height: 1px;margin: -1px;overflow: hidden;padding: 0;position: absolute;width: 1px;}#sk-container-id-1 div.sk-estimator {font-family: monospace;background-color: #f0f8ff;border: 1px dotted black;border-radius: 0.25em;box-sizing: border-box;margin-bottom: 0.5em;}#sk-container-id-1 div.sk-estimator:hover {background-color: #d4ebff;}#sk-container-id-1 div.sk-parallel-item::after {content: \"\";width: 100%;border-bottom: 1px solid gray;flex-grow: 1;}#sk-container-id-1 div.sk-label:hover label.sk-toggleable__label {background-color: #d4ebff;}#sk-container-id-1 div.sk-serial::before {content: \"\";position: absolute;border-left: 1px solid gray;box-sizing: border-box;top: 0;bottom: 0;left: 50%;z-index: 0;}#sk-container-id-1 div.sk-serial {display: flex;flex-direction: column;align-items: center;background-color: white;padding-right: 0.2em;padding-left: 0.2em;position: relative;}#sk-container-id-1 div.sk-item {position: relative;z-index: 1;}#sk-container-id-1 div.sk-parallel {display: flex;align-items: stretch;justify-content: center;background-color: white;position: relative;}#sk-container-id-1 div.sk-item::before, #sk-container-id-1 div.sk-parallel-item::before {content: \"\";position: absolute;border-left: 1px solid gray;box-sizing: border-box;top: 0;bottom: 0;left: 50%;z-index: -1;}#sk-container-id-1 div.sk-parallel-item {display: flex;flex-direction: column;z-index: 1;position: relative;background-color: white;}#sk-container-id-1 div.sk-parallel-item:first-child::after {align-self: flex-end;width: 50%;}#sk-container-id-1 div.sk-parallel-item:last-child::after {align-self: flex-start;width: 50%;}#sk-container-id-1 div.sk-parallel-item:only-child::after {width: 0;}#sk-container-id-1 div.sk-dashed-wrapped {border: 1px dashed gray;margin: 0 0.4em 0.5em 0.4em;box-sizing: border-box;padding-bottom: 0.4em;background-color: white;}#sk-container-id-1 div.sk-label label {font-family: monospace;font-weight: bold;display: inline-block;line-height: 1.2em;}#sk-container-id-1 div.sk-label-container {text-align: center;}#sk-container-id-1 div.sk-container {/* jupyter's `normalize.less` sets `[hidden] { display: none; }` but bootstrap.min.css set `[hidden] { display: none !important; }` so we also need the `!important` here to be able to override the default hidden behavior on the sphinx rendered scikit-learn.org. See: https://github.com/scikit-learn/scikit-learn/issues/21755 */display: inline-block !important;position: relative;}#sk-container-id-1 div.sk-text-repr-fallback {display: none;}</style><div id=\"sk-container-id-1\" class=\"sk-top-container\"><div class=\"sk-text-repr-fallback\"><pre>LinearRegression()</pre><b>In a Jupyter environment, please rerun this cell to show the HTML representation or trust the notebook. <br />On GitHub, the HTML representation is unable to render, please try loading this page with nbviewer.org.</b></div><div class=\"sk-container\" hidden><div class=\"sk-item\"><div class=\"sk-estimator sk-toggleable\"><input class=\"sk-toggleable__control sk-hidden--visually\" id=\"sk-estimator-id-1\" type=\"checkbox\" checked><label for=\"sk-estimator-id-1\" class=\"sk-toggleable__label sk-toggleable__label-arrow\">LinearRegression</label><div class=\"sk-toggleable__content\"><pre>LinearRegression()</pre></div></div></div></div></div>"
            ]
          },
          "metadata": {},
          "execution_count": 5
        }
      ]
    },
    {
      "cell_type": "code",
      "source": [
        "# Prediction using new data\n",
        "# You can enter new data as a dictionary with the same columns as in the original dataset.\n",
        "new_data = {\n",
        "    'squareMeters': [80000],\n",
        "    'numberOfRooms': [4],\n",
        "    'hasYard': [1],\n",
        "    'hasPool': [1],\n",
        "    'floors': [2],\n",
        "    'cityCode': [12345],\n",
        "    'cityPartRange': [5],\n",
        "    'numPrevOwners': [2],\n",
        "    'made': [2010],\n",
        "    'isNewBuilt': [1],\n",
        "    'hasStormProtector': [1],\n",
        "    'basement': [0],\n",
        "    'attic': [1],\n",
        "    'garage': [1],\n",
        "    'hasStorageRoom': [1],\n",
        "    'hasGuestRoom': [1]\n",
        "}\n",
        "# Create a DataFrame from the new data\n",
        "new_data_df = pd.DataFrame(new_data)\n",
        "# Make predictions\n",
        "predicted_price = model.predict(new_data_df)\n",
        "print(\"Predicted Price for the new data:\", predicted_price)"
      ],
      "metadata": {
        "colab": {
          "base_uri": "https://localhost:8080/"
        },
        "id": "dYlr32rR9msE",
        "outputId": "fef3d281-41d1-42df-9f3f-42ecd044f8b9"
      },
      "execution_count": 6,
      "outputs": [
        {
          "output_type": "stream",
          "name": "stdout",
          "text": [
            "Predicted Price for the new data: [8006937.77152399]\n"
          ]
        }
      ]
    },
    {
      "cell_type": "code",
      "source": [
        "# Visualize the results using Matplotlib\n",
        "# Plot the actual vs. predicted prices\n",
        "plt.scatter(y_test, model.predict(X_test))\n",
        "plt.xlabel(\"Actual Prices\")\n",
        "plt.ylabel(\"Predicted Prices\")\n",
        "plt.title(\"Actual Prices vs. Predicted Prices\")\n",
        "plt.show()"
      ],
      "metadata": {
        "colab": {
          "base_uri": "https://localhost:8080/",
          "height": 472
        },
        "id": "8IkGgmua9xVI",
        "outputId": "f286d6a8-1579-4c20-cae4-610bd3aec4c0"
      },
      "execution_count": 7,
      "outputs": [
        {
          "output_type": "display_data",
          "data": {
            "text/plain": [
              "<Figure size 640x480 with 1 Axes>"
            ],
            "image/png": "[encoded data removed]"
          },
          "metadata": {}
        }
      ]
    }
  ]
}