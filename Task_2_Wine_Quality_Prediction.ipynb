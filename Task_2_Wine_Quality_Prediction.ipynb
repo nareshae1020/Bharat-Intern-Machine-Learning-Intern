{
  "nbformat": 4,
  "nbformat_minor": 0,
  "metadata": {
    "colab": {
      "provenance": []
    },
    "kernelspec": {
      "name": "python3",
      "display_name": "Python 3"
    },
    "language_info": {
      "name": "python"
    }
  },
  "cells": [
    {
      "cell_type": "markdown",
      "source": [
        "#Red Wine Quality Prediction"
      ],
      "metadata": {
        "id": "HHUjC5GlAcN8"
      }
    },
    {
      "cell_type": "markdown",
      "source": [
        "Code by NARESHSARATHY S"
      ],
      "metadata": {
        "id": "IClRPSH4Aoax"
      }
    },
    {
      "cell_type": "markdown",
      "source": [
        "#WINE QUALITY PREDICTION\n",
        "###TASK 2\n",
        "Machine Learning model to predict quality of wine using linear regression only"
      ],
      "metadata": {
        "id": "dMSwbbqjAuOH"
      }
    },
    {
      "cell_type": "code",
      "execution_count": 1,
      "metadata": {
        "id": "yPxQEpLK_LBE"
      },
      "outputs": [],
      "source": [
        "# Import necessary libraries\n",
        "import pandas as pd\n",
        "import numpy as np\n",
        "from sklearn.model_selection import train_test_split\n",
        "from sklearn.linear_model import LinearRegression"
      ]
    },
    {
      "cell_type": "code",
      "source": [
        "# Load the data\n",
        "data = pd.read_csv('winequality-red.csv')"
      ],
      "metadata": {
        "id": "b3EJwI8C_x3k"
      },
      "execution_count": 2,
      "outputs": []
    },
    {
      "cell_type": "code",
      "source": [
        "# Data Exploration\n",
        "data.head()\n",
        "data.describe()\n",
        "data.info()"
      ],
      "metadata": {
        "colab": {
          "base_uri": "https://localhost:8080/"
        },
        "id": "cGadrJNt_11M",
        "outputId": "3066490f-6c71-412d-c07f-2b28f2be771b"
      },
      "execution_count": 3,
      "outputs": [
        {
          "output_type": "stream",
          "name": "stdout",
          "text": [
            "<class 'pandas.core.frame.DataFrame'>\n",
            "RangeIndex: 1599 entries, 0 to 1598\n",
            "Data columns (total 12 columns):\n",
            " #   Column                Non-Null Count  Dtype  \n",
            "---  ------                --------------  -----  \n",
            " 0   fixed acidity         1599 non-null   float64\n",
            " 1   volatile acidity      1599 non-null   float64\n",
            " 2   citric acid           1599 non-null   float64\n",
            " 3   residual sugar        1599 non-null   float64\n",
            " 4   chlorides             1599 non-null   float64\n",
            " 5   free sulfur dioxide   1599 non-null   float64\n",
            " 6   total sulfur dioxide  1599 non-null   float64\n",
            " 7   density               1599 non-null   float64\n",
            " 8   pH                    1599 non-null   float64\n",
            " 9   sulphates             1599 non-null   float64\n",
            " 10  alcohol               1599 non-null   float64\n",
            " 11  quality               1599 non-null   int64  \n",
            "dtypes: float64(11), int64(1)\n",
            "memory usage: 150.0 KB\n"
          ]
        }
      ]
    },
    {
      "cell_type": "code",
      "source": [
        "# Feature Selection\n",
        "X = data.drop('quality', axis=1)\n",
        "y = data['quality']"
      ],
      "metadata": {
        "id": "lcqvvlnA_8rN"
      },
      "execution_count": 4,
      "outputs": []
    },
    {
      "cell_type": "code",
      "source": [
        "# Data Splitting\n",
        "X_train, X_test, y_train, y_test = train_test_split(X, y, test_size=0.2, random_state=42)"
      ],
      "metadata": {
        "id": "KhhCbBH8AF_d"
      },
      "execution_count": 5,
      "outputs": []
    },
    {
      "cell_type": "code",
      "source": [
        "# Model Selection (Linear Regression)\n",
        "model = LinearRegression()\n",
        "# Model Training\n",
        "model.fit(X_train, y_train)\n",
        "# Model Evaluation\n",
        "train_score = model.score(X_train, y_train)\n",
        "test_score = model.score(X_test, y_test)\n",
        "print(f\"Training Score: {train_score:.2f}\")\n",
        "print(f\"Testing Score: {test_score:.2f}\")"
      ],
      "metadata": {
        "colab": {
          "base_uri": "https://localhost:8080/"
        },
        "id": "gdSc95e1AHr0",
        "outputId": "e7397c9a-bfec-49de-d24e-81fecda17887"
      },
      "execution_count": 6,
      "outputs": [
        {
          "output_type": "stream",
          "name": "stdout",
          "text": [
            "Training Score: 0.35\n",
            "Testing Score: 0.40\n"
          ]
        }
      ]
    },
    {
      "cell_type": "code",
      "source": [
        "# Making Predictions\n",
        "new_data = {\n",
        "    'fixed acidity': 7.8,\n",
        "    'volatile acidity': 0.5,\n",
        "    'citric acid': 0.1,\n",
        "    'residual sugar': 3.0,\n",
        "    'chlorides': 0.07,\n",
        "    'free sulfur dioxide': 15,\n",
        "    'total sulfur dioxide': 32,\n",
        "    'density': 0.998,\n",
        "    'pH': 3.35,\n",
        "    'sulphates': 0.65,\n",
        "    'alcohol': 9.0\n",
        "}\n",
        "new_data_df = pd.DataFrame([new_data])\n",
        "predicted_quality = model.predict(new_data_df)\n",
        "print(f\"Predicted Wine Quality: {predicted_quality[0]:.2f}\")"
      ],
      "metadata": {
        "colab": {
          "base_uri": "https://localhost:8080/"
        },
        "id": "h12h_vKpAPE-",
        "outputId": "a69009f1-0185-497a-a640-481dacc97073"
      },
      "execution_count": 8,
      "outputs": [
        {
          "output_type": "stream",
          "name": "stdout",
          "text": [
            "Predicted Wine Quality: 5.32\n"
          ]
        }
      ]
    }
  ]
}