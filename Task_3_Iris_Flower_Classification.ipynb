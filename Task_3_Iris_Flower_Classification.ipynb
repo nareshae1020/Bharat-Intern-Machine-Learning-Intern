{
  "nbformat": 4,
  "nbformat_minor": 0,
  "metadata": {
    "colab": {
      "provenance": []
    },
    "kernelspec": {
      "name": "python3",
      "display_name": "Python 3"
    },
    "language_info": {
      "name": "python"
    }
  },
  "cells": [
    {
      "cell_type": "markdown",
      "source": [
        "#IRIS FLOWER CLASSIFICATION"
      ],
      "metadata": {
        "id": "eUDlAWYvDVOc"
      }
    },
    {
      "cell_type": "markdown",
      "source": [
        "Code by NARESHSARATHY S"
      ],
      "metadata": {
        "id": "2qqCAuvpDZKy"
      }
    },
    {
      "cell_type": "markdown",
      "source": [
        "###TASK 3\n",
        "####Predict the different species of flowers on the length of there petals and sepals only Jupyter notebook code."
      ],
      "metadata": {
        "id": "LqHX4GKlDdIq"
      }
    },
    {
      "cell_type": "code",
      "execution_count": 20,
      "metadata": {
        "id": "aZejjpbSDLGS"
      },
      "outputs": [],
      "source": [
        "# Import necessary libraries\n",
        "import numpy as np\n",
        "import pandas as pd\n",
        "from sklearn.model_selection import train_test_split\n",
        "from sklearn.preprocessing import StandardScaler\n",
        "from sklearn.ensemble import RandomForestClassifier\n",
        "from sklearn.metrics import accuracy_score, classification_report\n",
        "from sklearn.datasets import load_iris"
      ]
    },
    {
      "cell_type": "code",
      "source": [
        "# Load the Iris dataset\n",
        "data = load_iris()\n",
        "X = data.data\n",
        "y = data.target\n",
        "iris_df = pd.DataFrame(data=np.c_[data['data'], data['target']], columns=data['feature_names'] + ['target'])"
      ],
      "metadata": {
        "id": "qpuKaXypDpOs"
      },
      "execution_count": 21,
      "outputs": []
    },
    {
      "cell_type": "code",
      "source": [
        "# Preprocess the data\n",
        "X_train, X_test, y_train, y_test = train_test_split(X, y, test_size=0.2, random_state=42)\n",
        "# Feature scaling\n",
        "scaler = StandardScaler()\n",
        "X_train = scaler.fit_transform(X_train)\n",
        "X_test = scaler.transform(X_test)"
      ],
      "metadata": {
        "id": "A4jkoHMgDsHg"
      },
      "execution_count": 22,
      "outputs": []
    },
    {
      "cell_type": "code",
      "source": [
        "# Build a machine learning model (Random Forest Classifier)\n",
        "model = RandomForestClassifier(n_estimators=100, random_state=42)\n",
        "# Train the model\n",
        "model.fit(X_train, y_train)\n",
        "# Make predictions\n",
        "y_pred = model.predict(X_test)"
      ],
      "metadata": {
        "id": "CLDvcjkwDw3f"
      },
      "execution_count": 23,
      "outputs": []
    },
    {
      "cell_type": "code",
      "source": [
        "# Evaluate the model's performance\n",
        "accuracy = accuracy_score(y_test, y_pred)*100\n",
        "print(f'Accuracy: {accuracy:.2f}')\n",
        "report = classification_report(y_test, y_pred, target_names=data.target_names)\n",
        "print(\"Classification Report:\\n\", report)"
      ],
      "metadata": {
        "colab": {
          "base_uri": "https://localhost:8080/"
        },
        "id": "a2aIGtcYDzlU",
        "outputId": "a158c598-822c-4645-8af6-40c0384a5c2a"
      },
      "execution_count": 24,
      "outputs": [
        {
          "output_type": "stream",
          "name": "stdout",
          "text": [
            "Accuracy: 100.00\n",
            "Classification Report:\n",
            "               precision    recall  f1-score   support\n",
            "\n",
            "      setosa       1.00      1.00      1.00        10\n",
            "  versicolor       1.00      1.00      1.00         9\n",
            "   virginica       1.00      1.00      1.00        11\n",
            "\n",
            "    accuracy                           1.00        30\n",
            "   macro avg       1.00      1.00      1.00        30\n",
            "weighted avg       1.00      1.00      1.00        30\n",
            "\n"
          ]
        }
      ]
    },
    {
      "cell_type": "code",
      "source": [
        "# Collect user input for sepal and petal measurements\n",
        "sepal_length = float(input(\"Enter sepal length (cm): \"))\n",
        "sepal_width = float(input(\"Enter sepal width (cm): \"))\n",
        "petal_length = float(input(\"Enter petal length (cm): \"))\n",
        "petal_width = float(input(\"Enter petal width (cm): \"))\n",
        "# Preprocess the user input data\n",
        "user_input = scaler.transform([[sepal_length, sepal_width, petal_length, petal_width]])\n",
        "# Make a prediction\n",
        "predicted_class = model.predict(user_input)\n",
        "predicted_species = data.target_names[predicted_class]\n",
        "# Display the predicted species to the user\n",
        "print(f\"Predicted Iris species: {predicted_species}\")"
      ],
      "metadata": {
        "colab": {
          "base_uri": "https://localhost:8080/"
        },
        "id": "zRorBWb8EXrb",
        "outputId": "04386516-c352-46a3-e712-ab7015ec2c26"
      },
      "execution_count": 25,
      "outputs": [
        {
          "output_type": "stream",
          "name": "stdout",
          "text": [
            "Enter sepal length (cm): 6.2\n",
            "Enter sepal width (cm): 2.9\n",
            "Enter petal length (cm): 4.3\n",
            "Enter petal width (cm): 1.3\n",
            "Predicted Iris species: ['versicolor']\n"
          ]
        }
      ]
    }
  ]
}